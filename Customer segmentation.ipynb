{
 "cells": [
  {
   "cell_type": "code",
   "execution_count": 29,
   "id": "4a33768d",
   "metadata": {},
   "outputs": [],
   "source": [
    "import pandas as pd\n",
    "import numpy as np\n",
    "from sklearn.preprocessing import StandardScaler\n",
    "from sklearn.cluster import KMeans\n"
   ]
  },
  {
   "cell_type": "code",
   "execution_count": 30,
   "id": "a9bb3f87",
   "metadata": {
    "scrolled": false
   },
   "outputs": [],
   "source": [
    "# Load the customer data into a pandas DataFrame\n",
    "customer_data = pd.read_csv(r'C:\\Users\\Hp\\customer.csv')"
   ]
  },
  {
   "cell_type": "code",
   "execution_count": 31,
   "id": "39c6ab1c",
   "metadata": {},
   "outputs": [
    {
     "data": {
      "text/html": [
       "<div>\n",
       "<style scoped>\n",
       "    .dataframe tbody tr th:only-of-type {\n",
       "        vertical-align: middle;\n",
       "    }\n",
       "\n",
       "    .dataframe tbody tr th {\n",
       "        vertical-align: top;\n",
       "    }\n",
       "\n",
       "    .dataframe thead th {\n",
       "        text-align: right;\n",
       "    }\n",
       "</style>\n",
       "<table border=\"1\" class=\"dataframe\">\n",
       "  <thead>\n",
       "    <tr style=\"text-align: right;\">\n",
       "      <th></th>\n",
       "      <th>Age</th>\n",
       "      <th>Income</th>\n",
       "      <th>SpendingScore</th>\n",
       "      <th>Savings</th>\n",
       "    </tr>\n",
       "  </thead>\n",
       "  <tbody>\n",
       "    <tr>\n",
       "      <th>0</th>\n",
       "      <td>42</td>\n",
       "      <td>100000</td>\n",
       "      <td>95</td>\n",
       "      <td>10000</td>\n",
       "    </tr>\n",
       "    <tr>\n",
       "      <th>1</th>\n",
       "      <td>36</td>\n",
       "      <td>120000</td>\n",
       "      <td>80</td>\n",
       "      <td>11000</td>\n",
       "    </tr>\n",
       "    <tr>\n",
       "      <th>2</th>\n",
       "      <td>32</td>\n",
       "      <td>110000</td>\n",
       "      <td>75</td>\n",
       "      <td>12000</td>\n",
       "    </tr>\n",
       "    <tr>\n",
       "      <th>3</th>\n",
       "      <td>40</td>\n",
       "      <td>120000</td>\n",
       "      <td>90</td>\n",
       "      <td>13000</td>\n",
       "    </tr>\n",
       "    <tr>\n",
       "      <th>4</th>\n",
       "      <td>35</td>\n",
       "      <td>115000</td>\n",
       "      <td>85</td>\n",
       "      <td>9000</td>\n",
       "    </tr>\n",
       "  </tbody>\n",
       "</table>\n",
       "</div>"
      ],
      "text/plain": [
       "   Age  Income  SpendingScore  Savings \n",
       "0   42  100000             95     10000\n",
       "1   36  120000             80     11000\n",
       "2   32  110000             75     12000\n",
       "3   40  120000             90     13000\n",
       "4   35  115000             85      9000"
      ]
     },
     "execution_count": 31,
     "metadata": {},
     "output_type": "execute_result"
    }
   ],
   "source": [
    "customer_data\n"
   ]
  },
  {
   "cell_type": "code",
   "execution_count": 32,
   "id": "af6d0412",
   "metadata": {},
   "outputs": [],
   "source": [
    "# Normalize the data using StandardScaler\n",
    "scaler = StandardScaler()\n",
    "customer_data_scaled = scaler.fit_transform(customer_data)\n"
   ]
  },
  {
   "cell_type": "code",
   "execution_count": 33,
   "id": "878d5ce2",
   "metadata": {},
   "outputs": [
    {
     "data": {
      "text/plain": [
       "array([[ 1.39754249, -1.73719807,  1.41421356, -0.70710678],\n",
       "       [-0.2795085 ,  0.93541435, -0.70710678,  0.        ],\n",
       "       [-1.39754249, -0.40089186, -1.41421356,  0.70710678],\n",
       "       [ 0.83852549,  0.93541435,  0.70710678,  1.41421356],\n",
       "       [-0.55901699,  0.26726124,  0.        , -1.41421356]])"
      ]
     },
     "execution_count": 33,
     "metadata": {},
     "output_type": "execute_result"
    }
   ],
   "source": [
    "customer_data_scaled"
   ]
  },
  {
   "cell_type": "code",
   "execution_count": 34,
   "id": "6544b9c7",
   "metadata": {},
   "outputs": [],
   "source": [
    "# Use KMeans to perform clustering\n",
    "kmeans = KMeans(n_clusters=5)\n",
    "customer_data_clusters = kmeans.fit_predict(customer_data_scaled)"
   ]
  },
  {
   "cell_type": "code",
   "execution_count": 35,
   "id": "46ea0800",
   "metadata": {},
   "outputs": [
    {
     "data": {
      "text/plain": [
       "array([0, 4, 1, 2, 3])"
      ]
     },
     "execution_count": 35,
     "metadata": {},
     "output_type": "execute_result"
    }
   ],
   "source": [
    "customer_data_clusters"
   ]
  },
  {
   "cell_type": "code",
   "execution_count": 36,
   "id": "9c529978",
   "metadata": {},
   "outputs": [],
   "source": [
    "# Add the cluster labels to the original data\n",
    "customer_data[\"Cluster\"] = customer_data_clusters"
   ]
  },
  {
   "cell_type": "code",
   "execution_count": 37,
   "id": "c7a8d221",
   "metadata": {},
   "outputs": [],
   "source": [
    "# Group the data by cluster to see the cluster characteristics\n",
    "grouped_data = customer_data.groupby([\"Cluster\"]).mean()"
   ]
  },
  {
   "cell_type": "code",
   "execution_count": 38,
   "id": "b7f77f55",
   "metadata": {},
   "outputs": [
    {
     "data": {
      "text/html": [
       "<div>\n",
       "<style scoped>\n",
       "    .dataframe tbody tr th:only-of-type {\n",
       "        vertical-align: middle;\n",
       "    }\n",
       "\n",
       "    .dataframe tbody tr th {\n",
       "        vertical-align: top;\n",
       "    }\n",
       "\n",
       "    .dataframe thead th {\n",
       "        text-align: right;\n",
       "    }\n",
       "</style>\n",
       "<table border=\"1\" class=\"dataframe\">\n",
       "  <thead>\n",
       "    <tr style=\"text-align: right;\">\n",
       "      <th></th>\n",
       "      <th>Age</th>\n",
       "      <th>Income</th>\n",
       "      <th>SpendingScore</th>\n",
       "      <th>Savings</th>\n",
       "    </tr>\n",
       "    <tr>\n",
       "      <th>Cluster</th>\n",
       "      <th></th>\n",
       "      <th></th>\n",
       "      <th></th>\n",
       "      <th></th>\n",
       "    </tr>\n",
       "  </thead>\n",
       "  <tbody>\n",
       "    <tr>\n",
       "      <th>0</th>\n",
       "      <td>42.0</td>\n",
       "      <td>100000.0</td>\n",
       "      <td>95.0</td>\n",
       "      <td>10000.0</td>\n",
       "    </tr>\n",
       "    <tr>\n",
       "      <th>1</th>\n",
       "      <td>32.0</td>\n",
       "      <td>110000.0</td>\n",
       "      <td>75.0</td>\n",
       "      <td>12000.0</td>\n",
       "    </tr>\n",
       "    <tr>\n",
       "      <th>2</th>\n",
       "      <td>40.0</td>\n",
       "      <td>120000.0</td>\n",
       "      <td>90.0</td>\n",
       "      <td>13000.0</td>\n",
       "    </tr>\n",
       "    <tr>\n",
       "      <th>3</th>\n",
       "      <td>35.0</td>\n",
       "      <td>115000.0</td>\n",
       "      <td>85.0</td>\n",
       "      <td>9000.0</td>\n",
       "    </tr>\n",
       "    <tr>\n",
       "      <th>4</th>\n",
       "      <td>36.0</td>\n",
       "      <td>120000.0</td>\n",
       "      <td>80.0</td>\n",
       "      <td>11000.0</td>\n",
       "    </tr>\n",
       "  </tbody>\n",
       "</table>\n",
       "</div>"
      ],
      "text/plain": [
       "          Age    Income  SpendingScore  Savings \n",
       "Cluster                                         \n",
       "0        42.0  100000.0           95.0   10000.0\n",
       "1        32.0  110000.0           75.0   12000.0\n",
       "2        40.0  120000.0           90.0   13000.0\n",
       "3        35.0  115000.0           85.0    9000.0\n",
       "4        36.0  120000.0           80.0   11000.0"
      ]
     },
     "execution_count": 38,
     "metadata": {},
     "output_type": "execute_result"
    }
   ],
   "source": [
    "grouped_data"
   ]
  }
 ],
 "metadata": {
  "kernelspec": {
   "display_name": "Python 3 (ipykernel)",
   "language": "python",
   "name": "python3"
  },
  "language_info": {
   "codemirror_mode": {
    "name": "ipython",
    "version": 3
   },
   "file_extension": ".py",
   "mimetype": "text/x-python",
   "name": "python",
   "nbconvert_exporter": "python",
   "pygments_lexer": "ipython3",
   "version": "3.9.12"
  }
 },
 "nbformat": 4,
 "nbformat_minor": 5
}
